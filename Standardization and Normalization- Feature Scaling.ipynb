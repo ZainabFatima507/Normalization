{
 "cells": [
  {
   "cell_type": "code",
   "execution_count": 1,
   "id": "republican-finance",
   "metadata": {},
   "outputs": [],
   "source": [
    "import pandas as pd\n",
    "import numpy as np"
   ]
  },
  {
   "cell_type": "code",
   "execution_count": 2,
   "id": "introductory-transparency",
   "metadata": {},
   "outputs": [],
   "source": [
    "data=pd.read_csv('diabetes.csv')"
   ]
  },
  {
   "cell_type": "code",
   "execution_count": 3,
   "id": "fixed-fundamentals",
   "metadata": {},
   "outputs": [
    {
     "data": {
      "text/html": [
       "<div>\n",
       "<style scoped>\n",
       "    .dataframe tbody tr th:only-of-type {\n",
       "        vertical-align: middle;\n",
       "    }\n",
       "\n",
       "    .dataframe tbody tr th {\n",
       "        vertical-align: top;\n",
       "    }\n",
       "\n",
       "    .dataframe thead th {\n",
       "        text-align: right;\n",
       "    }\n",
       "</style>\n",
       "<table border=\"1\" class=\"dataframe\">\n",
       "  <thead>\n",
       "    <tr style=\"text-align: right;\">\n",
       "      <th></th>\n",
       "      <th>Pregnancies</th>\n",
       "      <th>Glucose</th>\n",
       "      <th>BloodPressure</th>\n",
       "      <th>SkinThickness</th>\n",
       "      <th>Insulin</th>\n",
       "      <th>BMI</th>\n",
       "      <th>DiabetesPedigreeFunction</th>\n",
       "      <th>Age</th>\n",
       "      <th>Outcome</th>\n",
       "    </tr>\n",
       "  </thead>\n",
       "  <tbody>\n",
       "    <tr>\n",
       "      <th>0</th>\n",
       "      <td>6</td>\n",
       "      <td>148</td>\n",
       "      <td>72</td>\n",
       "      <td>35</td>\n",
       "      <td>0</td>\n",
       "      <td>33.6</td>\n",
       "      <td>0.627</td>\n",
       "      <td>50</td>\n",
       "      <td>1</td>\n",
       "    </tr>\n",
       "    <tr>\n",
       "      <th>1</th>\n",
       "      <td>1</td>\n",
       "      <td>85</td>\n",
       "      <td>66</td>\n",
       "      <td>29</td>\n",
       "      <td>0</td>\n",
       "      <td>26.6</td>\n",
       "      <td>0.351</td>\n",
       "      <td>31</td>\n",
       "      <td>0</td>\n",
       "    </tr>\n",
       "    <tr>\n",
       "      <th>2</th>\n",
       "      <td>8</td>\n",
       "      <td>183</td>\n",
       "      <td>64</td>\n",
       "      <td>0</td>\n",
       "      <td>0</td>\n",
       "      <td>23.3</td>\n",
       "      <td>0.672</td>\n",
       "      <td>32</td>\n",
       "      <td>1</td>\n",
       "    </tr>\n",
       "    <tr>\n",
       "      <th>3</th>\n",
       "      <td>1</td>\n",
       "      <td>89</td>\n",
       "      <td>66</td>\n",
       "      <td>23</td>\n",
       "      <td>94</td>\n",
       "      <td>28.1</td>\n",
       "      <td>0.167</td>\n",
       "      <td>21</td>\n",
       "      <td>0</td>\n",
       "    </tr>\n",
       "    <tr>\n",
       "      <th>4</th>\n",
       "      <td>0</td>\n",
       "      <td>137</td>\n",
       "      <td>40</td>\n",
       "      <td>35</td>\n",
       "      <td>168</td>\n",
       "      <td>43.1</td>\n",
       "      <td>2.288</td>\n",
       "      <td>33</td>\n",
       "      <td>1</td>\n",
       "    </tr>\n",
       "    <tr>\n",
       "      <th>5</th>\n",
       "      <td>5</td>\n",
       "      <td>116</td>\n",
       "      <td>74</td>\n",
       "      <td>0</td>\n",
       "      <td>0</td>\n",
       "      <td>25.6</td>\n",
       "      <td>0.201</td>\n",
       "      <td>30</td>\n",
       "      <td>0</td>\n",
       "    </tr>\n",
       "    <tr>\n",
       "      <th>6</th>\n",
       "      <td>3</td>\n",
       "      <td>78</td>\n",
       "      <td>50</td>\n",
       "      <td>32</td>\n",
       "      <td>88</td>\n",
       "      <td>31.0</td>\n",
       "      <td>0.248</td>\n",
       "      <td>26</td>\n",
       "      <td>1</td>\n",
       "    </tr>\n",
       "    <tr>\n",
       "      <th>7</th>\n",
       "      <td>10</td>\n",
       "      <td>115</td>\n",
       "      <td>0</td>\n",
       "      <td>0</td>\n",
       "      <td>0</td>\n",
       "      <td>35.3</td>\n",
       "      <td>0.134</td>\n",
       "      <td>29</td>\n",
       "      <td>0</td>\n",
       "    </tr>\n",
       "    <tr>\n",
       "      <th>8</th>\n",
       "      <td>2</td>\n",
       "      <td>197</td>\n",
       "      <td>70</td>\n",
       "      <td>45</td>\n",
       "      <td>543</td>\n",
       "      <td>30.5</td>\n",
       "      <td>0.158</td>\n",
       "      <td>53</td>\n",
       "      <td>1</td>\n",
       "    </tr>\n",
       "    <tr>\n",
       "      <th>9</th>\n",
       "      <td>8</td>\n",
       "      <td>125</td>\n",
       "      <td>96</td>\n",
       "      <td>0</td>\n",
       "      <td>0</td>\n",
       "      <td>0.0</td>\n",
       "      <td>0.232</td>\n",
       "      <td>54</td>\n",
       "      <td>1</td>\n",
       "    </tr>\n",
       "  </tbody>\n",
       "</table>\n",
       "</div>"
      ],
      "text/plain": [
       "   Pregnancies  Glucose  BloodPressure  SkinThickness  Insulin   BMI  \\\n",
       "0            6      148             72             35        0  33.6   \n",
       "1            1       85             66             29        0  26.6   \n",
       "2            8      183             64              0        0  23.3   \n",
       "3            1       89             66             23       94  28.1   \n",
       "4            0      137             40             35      168  43.1   \n",
       "5            5      116             74              0        0  25.6   \n",
       "6            3       78             50             32       88  31.0   \n",
       "7           10      115              0              0        0  35.3   \n",
       "8            2      197             70             45      543  30.5   \n",
       "9            8      125             96              0        0   0.0   \n",
       "\n",
       "   DiabetesPedigreeFunction  Age  Outcome  \n",
       "0                     0.627   50        1  \n",
       "1                     0.351   31        0  \n",
       "2                     0.672   32        1  \n",
       "3                     0.167   21        0  \n",
       "4                     2.288   33        1  \n",
       "5                     0.201   30        0  \n",
       "6                     0.248   26        1  \n",
       "7                     0.134   29        0  \n",
       "8                     0.158   53        1  \n",
       "9                     0.232   54        1  "
      ]
     },
     "execution_count": 3,
     "metadata": {},
     "output_type": "execute_result"
    }
   ],
   "source": [
    "data.head(10)"
   ]
  },
  {
   "cell_type": "code",
   "execution_count": null,
   "id": "respective-release",
   "metadata": {},
   "outputs": [],
   "source": [
    "from sklearn.preprocessing"
   ]
  },
  {
   "cell_type": "markdown",
   "id": "composite-intervention",
   "metadata": {},
   "source": [
    "## Feature Scaling"
   ]
  },
  {
   "cell_type": "markdown",
   "id": "fallen-sarah",
   "metadata": {},
   "source": [
    "#### Normalization"
   ]
  },
  {
   "cell_type": "markdown",
   "id": "structural-teens",
   "metadata": {},
   "source": [
    "Normalisation helps you to scale down your features into the given range"
   ]
  },
  {
   "cell_type": "markdown",
   "id": "light-lebanon",
   "metadata": {},
   "source": [
    "MinMaxScalar(formula for Normalisation ,Transform features by scaling each feature to a given range.(default is 0 to 1)) \n",
    "The transformation is given by:\n",
    "\n",
    "\n",
    "                 X_std = (X - X.min(axis=0)) / (X.max(axis=0) - X.min(axis=0))\n",
    "                 X_scaled = X_std * (max - min) + min\n",
    "the X_std formula is applied to each value of each feature \n",
    "\n",
    "This estimator scales and translates each feature individually such that it is in the given range on the training set, e.g. between zero and one."
   ]
  },
  {
   "cell_type": "code",
   "execution_count": 8,
   "id": "innovative-exposure",
   "metadata": {},
   "outputs": [
    {
     "data": {
      "text/plain": [
       "array([[0.74371859, 0.35353535, 0.        , 0.23441503, 0.48333333],\n",
       "       [0.42713568, 0.29292929, 0.        , 0.11656704, 0.16666667],\n",
       "       [0.91959799, 0.        , 0.        , 0.25362938, 0.18333333],\n",
       "       ...,\n",
       "       [0.6080402 , 0.23232323, 0.13238771, 0.07130658, 0.15      ],\n",
       "       [0.63316583, 0.        , 0.        , 0.11571307, 0.43333333],\n",
       "       [0.46733668, 0.31313131, 0.        , 0.10119556, 0.03333333]])"
      ]
     },
     "execution_count": 8,
     "metadata": {},
     "output_type": "execute_result"
    }
   ],
   "source": [
    "from sklearn.preprocessing import MinMaxScaler\n",
    "scaling=MinMaxScaler()\n",
    "# sklearn.preprocessing.MinMaxScaler(feature_range=(0, 1), *, copy=True, clip=False)\n",
    "scaling.fit_transform(data[['Glucose','SkinThickness','Insulin','DiabetesPedigreeFunction','Age']])"
   ]
  },
  {
   "cell_type": "code",
   "execution_count": null,
   "id": "applicable-timber",
   "metadata": {},
   "outputs": [],
   "source": []
  },
  {
   "cell_type": "markdown",
   "id": "southeast-determination",
   "metadata": {},
   "source": [
    "#### Strandralisation(Z-Score Normalization)"
   ]
  },
  {
   "cell_type": "markdown",
   "id": "detected-channel",
   "metadata": {},
   "source": [
    "Strandralisation helps you to scale down your features based on Standard Normal Distribution(Mean=0, SD=1)\n",
    "Here all the features will be transformed in such a way that it will have the properties of the Standard Normal Distribution(Mean=0, SD=1)\n",
    "\n",
    "                                            z=(x-μ)/σ\n"
   ]
  },
  {
   "cell_type": "code",
   "execution_count": 9,
   "id": "floppy-animation",
   "metadata": {},
   "outputs": [
    {
     "data": {
      "text/plain": [
       "array([[ 0.84832379,  0.90726993, -0.69289057,  0.46849198,  1.4259954 ],\n",
       "       [-1.12339636,  0.53090156, -0.69289057, -0.36506078, -0.19067191],\n",
       "       [ 1.94372388, -1.28821221, -0.69289057,  0.60439732, -0.10558415],\n",
       "       ...,\n",
       "       [ 0.00330087,  0.15453319,  0.27959377, -0.68519336, -0.27575966],\n",
       "       [ 0.1597866 , -1.28821221, -0.69289057, -0.37110101,  1.17073215],\n",
       "       [-0.8730192 ,  0.65635768, -0.69289057, -0.47378505, -0.87137393]])"
      ]
     },
     "execution_count": 9,
     "metadata": {},
     "output_type": "execute_result"
    }
   ],
   "source": [
    "from sklearn.preprocessing import StandardScaler\n",
    "scaling=StandardScaler()\n",
    "# sklearn.preprocessing.StandardScaler(*, copy=True, with_mean=True, with_std=True)\n",
    "scaling.fit_transform(data[['Glucose','SkinThickness','Insulin','DiabetesPedigreeFunction','Age']])"
   ]
  },
  {
   "cell_type": "markdown",
   "id": "rental-filling",
   "metadata": {},
   "source": [
    "When to use:\n",
    "    In ML algorithms which involves Euclidean Distance(Linear Regression, Logistic Regression)\n",
    "    In Deep Learning techniques where Gradient Descent is involved.(where we have to find the global minima)\n",
    "    and if we want to find that minima in less time, we have to scale down that value.(KNN,K-means clustering, ANN,CNN ) \n",
    "Where not to use:\n",
    "    Algos where scaling is not required are Decision Tree, Random Forest, all Boosting Techniques."
   ]
  }
 ],
 "metadata": {
  "kernelspec": {
   "display_name": "Python 3",
   "language": "python",
   "name": "python3"
  },
  "language_info": {
   "codemirror_mode": {
    "name": "ipython",
    "version": 3
   },
   "file_extension": ".py",
   "mimetype": "text/x-python",
   "name": "python",
   "nbconvert_exporter": "python",
   "pygments_lexer": "ipython3",
   "version": "3.9.0"
  }
 },
 "nbformat": 4,
 "nbformat_minor": 5
}
